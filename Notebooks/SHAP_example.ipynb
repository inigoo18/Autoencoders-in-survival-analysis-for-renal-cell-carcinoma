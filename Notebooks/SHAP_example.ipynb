{
 "cells": [
  {
   "cell_type": "code",
   "execution_count": 103,
   "id": "eac67418-26d4-47c3-946f-e9af91af630d",
   "metadata": {},
   "outputs": [
    {
     "name": "stdout",
     "output_type": "stream",
     "text": [
      "Normalized cross-correlation: [0.12748643 0.12472462 0.12064975 ... 0.11456747 0.11012202 0.11719238] 2937\n"
     ]
    }
   ],
   "source": [
    "import numpy as np\n",
    "\n",
    "# Example arrays\n",
    "array1 = np.random.rand(3000)\n",
    "array2 = np.random.rand(64)\n",
    "\n",
    "# Compute cross-correlation\n",
    "correlation = np.correlate(array1, array2, mode='valid')\n",
    "\n",
    "# Normalize the correlation coefficient\n",
    "norm_correlation = correlation / np.sqrt(np.sum(array1**2) * np.sum(array2**2))\n",
    "\n",
    "# Print the result\n",
    "print(\"Normalized cross-correlation:\", norm_correlation, len(norm_correlation))\n"
   ]
  }
 ],
 "metadata": {
  "kernelspec": {
   "display_name": "Python 3 (ipykernel)",
   "language": "python",
   "name": "python3"
  },
  "language_info": {
   "codemirror_mode": {
    "name": "ipython",
    "version": 3
   },
   "file_extension": ".py",
   "mimetype": "text/x-python",
   "name": "python",
   "nbconvert_exporter": "python",
   "pygments_lexer": "ipython3",
   "version": "3.11.7"
  }
 },
 "nbformat": 4,
 "nbformat_minor": 5
}
