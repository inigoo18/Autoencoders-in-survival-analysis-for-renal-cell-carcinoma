{
 "cells": [
  {
   "cell_type": "code",
   "execution_count": 81,
   "id": "42549ef9-f170-4573-a72c-20e7a67f6adb",
   "metadata": {},
   "outputs": [],
   "source": [
    "import os\n",
    "import numpy as np\n",
    "import pandas as pd\n",
    "from sklearn.model_selection import train_test_split\n",
    "from sklearn.pipeline import make_pipeline\n",
    "from sksurv.preprocessing import OneHotEncoder\n",
    "\n",
    "from sksurv.linear_model import CoxPHSurvivalAnalysis, CoxnetSurvivalAnalysis\n",
    "from sksurv.metrics import (\n",
    "    concordance_index_censored,\n",
    "    concordance_index_ipcw,\n",
    "    cumulative_dynamic_auc,\n",
    "    integrated_brier_score,\n",
    ")\n",
    "\n",
    "import matplotlib.pyplot as plt\n",
    "import random"
   ]
  },
  {
   "cell_type": "code",
   "execution_count": 82,
   "id": "62077b75-c2d5-45e7-9782-81143ea938ee",
   "metadata": {},
   "outputs": [
    {
     "data": {
      "text/plain": [
       "array([( True,  20.), (False, 357.), (False,  18.), (False,  52.),\n",
       "       (False, 340.), (False, 122.), ( True, 162.), (False, 123.),\n",
       "       (False,  16.), (False, 182.), (False,   8.), (False, 117.),\n",
       "       ( True,  53.), (False, 162.), (False,  31.), (False, 100.),\n",
       "       (False,   7.), (False,  59.), (False, 143.), (False,   2.),\n",
       "       ( True, 132.), (False,  51.), (False, 118.), (False,  56.),\n",
       "       (False,  95.), (False,  43.), ( True,  54.), (False, 133.),\n",
       "       (False,  97.), ( True, 384.), ( True, 111.), ( True, 177.),\n",
       "       (False,  48.), (False,  19.), (False, 139.), (False, 587.),\n",
       "       (False, 260.), (False, 103.), (False, 153.), ( True, 283.),\n",
       "       (False, 117.), (False,  25.), (False, 231.), (False,  25.),\n",
       "       (False,  36.), ( True,  84.), (False,  24.), ( True,  52.),\n",
       "       (False, 392.), (False,  83.), (False,  13.), (False, 250.),\n",
       "       (False,  27.), (False, 100.), ( True,  87.), (False,  52.),\n",
       "       (False,  29.), (False,  49.), (False,  63.), ( True,  21.),\n",
       "       (False,  87.), (False,  31.), ( True,  61.), (False,  18.),\n",
       "       (False,   7.), ( True, 112.), ( True, 389.), (False, 126.),\n",
       "       (False,   8.), (False, 110.), ( True, 287.), (False,  54.),\n",
       "       ( True, 314.), ( True,  10.), (False, 378.), (False,  21.),\n",
       "       (False,   8.), (False,  30.), (False, 242.), (False,  82.),\n",
       "       (False,  19.), (False,  30.), (False,  99.), ( True,  12.),\n",
       "       (False,  13.), (False, 467.), (False,  33.), (False, 228.),\n",
       "       ( True,  95.), (False,   7.), (False,  25.), (False, 231.),\n",
       "       (False, 105.), (False,  72.), (False, 216.), (False,  12.),\n",
       "       (False, 999.), (False,  25.), (False,  18.), (False, 164.),\n",
       "       (False,  73.), (False,  80.), (False,  92.), (False,  99.),\n",
       "       (False,  22.), ( True,  80.), (False, 411.), ( True,  20.),\n",
       "       (False,  15.)],\n",
       "      dtype=[('Status', '?'), ('Survival_in_days', '<f8')])"
      ]
     },
     "execution_count": 82,
     "metadata": {},
     "output_type": "execute_result"
    }
   ],
   "source": [
    "from sksurv.datasets import load_veterans_lung_cancer\n",
    "\n",
    "va_x, va_y = load_veterans_lung_cancer()\n",
    "\n",
    "random.seed(43)\n",
    "\n",
    "for i in va_y:\n",
    "    if random.randint(0,10) < 9:\n",
    "        i[0] = False\n",
    "\n",
    "va_x_train, va_x_test, va_y_train, va_y_test = train_test_split(\n",
    "    va_x, va_y, test_size=0.2, stratify=va_y[\"Status\"], random_state=0\n",
    ")\n",
    "\n",
    "min_idx = np.argmin(va_y_train['Survival_in_days'])\n",
    "max_idx = np.argmax(va_y_train['Survival_in_days'])\n",
    "\n",
    "va_y_train[min_idx]['Status'] = 0\n",
    "va_y_train[max_idx]['Status'] = 0\n",
    "\n",
    "va_y_train"
   ]
  },
  {
   "cell_type": "code",
   "execution_count": 83,
   "id": "2a8131f0-2cc8-43b2-8eab-bef521185aa4",
   "metadata": {},
   "outputs": [
    {
     "data": {
      "text/plain": [
       "389.0"
      ]
     },
     "execution_count": 83,
     "metadata": {},
     "output_type": "execute_result"
    }
   ],
   "source": [
    "max(va_y_train[va_y_train['Status']]['Survival_in_days'])"
   ]
  },
  {
   "cell_type": "code",
   "execution_count": 84,
   "id": "cb63919d-a37c-4ba5-8ed5-4ccec496340a",
   "metadata": {},
   "outputs": [
    {
     "ename": "SyntaxError",
     "evalue": "unterminated string literal (detected at line 1) (1550109129.py, line 1)",
     "output_type": "error",
     "traceback": [
      "\u001b[1;36m  Cell \u001b[1;32mIn[84], line 1\u001b[1;36m\u001b[0m\n\u001b[1;33m    va_y_train['\u001b[0m\n\u001b[1;37m               ^\u001b[0m\n\u001b[1;31mSyntaxError\u001b[0m\u001b[1;31m:\u001b[0m unterminated string literal (detected at line 1)\n"
     ]
    }
   ],
   "source": [
    "va_y_train['"
   ]
  },
  {
   "cell_type": "code",
   "execution_count": 85,
   "id": "6020837c-935c-4c8e-8077-839ced63f3eb",
   "metadata": {},
   "outputs": [
    {
     "name": "stdout",
     "output_type": "stream",
     "text": [
      "Fold 1:\n",
      "Train indices: [ 1  3  4  5  7  8  9 10 11 12 13 14 15 17 18 19 20 21 22 23 26 28 29 30\n",
      " 31 34 35 36 38 39 40 41 43 44 45 46 47 48 49 50 51 52 53 55 56 58 59 61\n",
      " 62 63 64 65 66 67 69 70 71 73 74 75 76 77 80 81 82 83 84 85 86 87 88 89\n",
      " 90 91 92 95 96 97 98 99]\n",
      "Test indices: [ 0  2  6 16 24 25 27 32 33 37 42 54 57 60 68 72 78 79 93 94]\n",
      "\n",
      "Fold 2:\n",
      "Train indices: [ 0  1  2  3  4  5  6  8  9 10 12 13 14 16 17 19 20 21 22 23 24 25 26 27\n",
      " 28 30 31 32 33 34 35 36 37 38 39 42 43 44 45 46 47 50 51 52 53 54 55 56\n",
      " 57 58 59 60 61 62 64 65 68 69 70 71 72 73 74 75 77 78 79 80 81 84 85 88\n",
      " 89 92 93 94 95 96 97 98]\n",
      "Test indices: [ 7 11 15 18 29 40 41 48 49 63 66 67 76 82 83 86 87 90 91 99]\n",
      "\n",
      "Fold 3:\n",
      "Train indices: [ 0  1  2  3  4  5  6  7 11 12 13 15 16 17 18 19 20 22 23 24 25 26 27 28\n",
      " 29 32 33 34 35 37 39 40 41 42 44 48 49 50 51 52 53 54 55 56 57 58 59 60\n",
      " 61 63 64 65 66 67 68 70 71 72 74 75 76 78 79 80 82 83 84 85 86 87 88 89\n",
      " 90 91 92 93 94 97 98 99]\n",
      "Test indices: [ 8  9 10 14 21 30 31 36 38 43 45 46 47 62 69 73 77 81 95 96]\n",
      "\n",
      "Fold 4:\n",
      "Train indices: [ 0  2  3  6  7  8  9 10 11 12 14 15 16 18 21 23 24 25 26 27 29 30 31 32\n",
      " 33 35 36 37 38 40 41 42 43 45 46 47 48 49 50 51 52 54 55 56 57 60 61 62\n",
      " 63 64 65 66 67 68 69 70 72 73 75 76 77 78 79 80 81 82 83 84 85 86 87 89\n",
      " 90 91 93 94 95 96 98 99]\n",
      "Test indices: [ 1  4  5 13 17 19 20 22 28 34 39 44 53 58 59 71 74 88 92 97]\n",
      "\n",
      "Fold 5:\n",
      "Train indices: [ 0  1  2  4  5  6  7  8  9 10 11 13 14 15 16 17 18 19 20 21 22 24 25 27\n",
      " 28 29 30 31 32 33 34 36 37 38 39 40 41 42 43 44 45 46 47 48 49 53 54 57\n",
      " 58 59 60 62 63 66 67 68 69 71 72 73 74 76 77 78 79 81 82 83 86 87 88 90\n",
      " 91 92 93 94 95 96 97 99]\n",
      "Test indices: [ 3 12 23 26 35 50 51 52 55 56 61 64 65 70 75 80 84 85 89 98]\n",
      "\n"
     ]
    }
   ],
   "source": [
    "from sklearn.model_selection import KFold\n",
    "\n",
    "# Create KFold object\n",
    "kf = KFold(n_splits=5, shuffle=True, random_state=41)\n",
    "\n",
    "# Example data indices\n",
    "data_indices = range(100)  # Assuming you have 100 samples\n",
    "\n",
    "# Iterate over the folds and print the train-test indices\n",
    "fold_index = 1\n",
    "for train_indices, test_indices in kf.split(data_indices):\n",
    "    print(f\"Fold {fold_index}:\")\n",
    "    print(\"Train indices:\", train_indices)\n",
    "    print(\"Test indices:\", test_indices)\n",
    "    print()\n",
    "    fold_index += 1"
   ]
  },
  {
   "cell_type": "code",
   "execution_count": 86,
   "id": "eb72e58c-b708-4401-9450-e78337693ccf",
   "metadata": {},
   "outputs": [
    {
     "name": "stdout",
     "output_type": "stream",
     "text": [
      "Fold 1:\n",
      "Train indices: [ 1  3  4  5  7  8  9 10 11 12 13 14 15 17 18 19 20 21 22 23 26 28 29 30\n",
      " 31 34 35 36 38 39 40 41 43 44 45 46 47 48 49 50 51 52 53 55 56 58 59 61\n",
      " 62 63 64 65 66 67 69 70 71 73 74 75 76 77 80 81 82 83 84 85 86 87 88 89\n",
      " 90 91 92 95 96 97 98 99]\n",
      "Test indices: [ 0  2  6 16 24 25 27 32 33 37 42 54 57 60 68 72 78 79 93 94]\n",
      "\n",
      "Fold 2:\n",
      "Train indices: [ 0  1  2  3  4  5  6  8  9 10 12 13 14 16 17 19 20 21 22 23 24 25 26 27\n",
      " 28 30 31 32 33 34 35 36 37 38 39 42 43 44 45 46 47 50 51 52 53 54 55 56\n",
      " 57 58 59 60 61 62 64 65 68 69 70 71 72 73 74 75 77 78 79 80 81 84 85 88\n",
      " 89 92 93 94 95 96 97 98]\n",
      "Test indices: [ 7 11 15 18 29 40 41 48 49 63 66 67 76 82 83 86 87 90 91 99]\n",
      "\n",
      "Fold 3:\n",
      "Train indices: [ 0  1  2  3  4  5  6  7 11 12 13 15 16 17 18 19 20 22 23 24 25 26 27 28\n",
      " 29 32 33 34 35 37 39 40 41 42 44 48 49 50 51 52 53 54 55 56 57 58 59 60\n",
      " 61 63 64 65 66 67 68 70 71 72 74 75 76 78 79 80 82 83 84 85 86 87 88 89\n",
      " 90 91 92 93 94 97 98 99]\n",
      "Test indices: [ 8  9 10 14 21 30 31 36 38 43 45 46 47 62 69 73 77 81 95 96]\n",
      "\n",
      "Fold 4:\n",
      "Train indices: [ 0  2  3  6  7  8  9 10 11 12 14 15 16 18 21 23 24 25 26 27 29 30 31 32\n",
      " 33 35 36 37 38 40 41 42 43 45 46 47 48 49 50 51 52 54 55 56 57 60 61 62\n",
      " 63 64 65 66 67 68 69 70 72 73 75 76 77 78 79 80 81 82 83 84 85 86 87 89\n",
      " 90 91 93 94 95 96 98 99]\n",
      "Test indices: [ 1  4  5 13 17 19 20 22 28 34 39 44 53 58 59 71 74 88 92 97]\n",
      "\n",
      "Fold 5:\n",
      "Train indices: [ 0  1  2  4  5  6  7  8  9 10 11 13 14 15 16 17 18 19 20 21 22 24 25 27\n",
      " 28 29 30 31 32 33 34 36 37 38 39 40 41 42 43 44 45 46 47 48 49 53 54 57\n",
      " 58 59 60 62 63 66 67 68 69 71 72 73 74 76 77 78 79 81 82 83 86 87 88 90\n",
      " 91 92 93 94 95 96 97 99]\n",
      "Test indices: [ 3 12 23 26 35 50 51 52 55 56 61 64 65 70 75 80 84 85 89 98]\n",
      "\n"
     ]
    }
   ],
   "source": [
    "from sklearn.model_selection import KFold\n",
    "\n",
    "class CustomKFold(KFold):\n",
    "    def __init__(self, n_splits=5, shuffle=False, random_state=None):\n",
    "        super().__init__(n_splits=n_splits, shuffle=shuffle, random_state=random_state)\n",
    "\n",
    "    def split(self, X, y=None, groups=None):\n",
    "        for train_index, test_index in super().split(X, y, groups):\n",
    "            # Ensure m is always in the training set\n",
    "            #if X[train_index].max() < X[test_index].max():\n",
    "            #    train_index = list(train_index) + [test_index[X[test_index].argmax()]]\n",
    "            yield train_index, test_index\n",
    "\n",
    "# Usage example:\n",
    "kf = CustomKFold(n_splits=5, shuffle=True, random_state=41)\n",
    "\n",
    "# Example data indices\n",
    "data_indices = range(100)  # Assuming you have 100 samples\n",
    "\n",
    "# Iterate over the folds and print the train-test indices\n",
    "fold_index = 1\n",
    "for train_indices, test_indices in kf.split(data_indices):\n",
    "    print(f\"Fold {fold_index}:\")\n",
    "    print(\"Train indices:\", train_indices)\n",
    "    print(\"Test indices:\", test_indices)\n",
    "    print()\n",
    "    fold_index += 1"
   ]
  },
  {
   "cell_type": "code",
   "execution_count": 87,
   "id": "61c434c2-4a4f-40f9-b317-528f638bc1ad",
   "metadata": {},
   "outputs": [
    {
     "data": {
      "text/plain": [
       "2"
      ]
     },
     "execution_count": 87,
     "metadata": {},
     "output_type": "execute_result"
    }
   ],
   "source": [
    "data = np.array([(True, 10), (False, 15), (True, 20)], dtype=[('Status', '?'), ('Survival_in_days', '<f8')])\n",
    "\n",
    "# Filter the array to include only samples where Status is 1\n",
    "filtered_data = data[data['Status']]\n",
    "\n",
    "# Get the index of the sample with the maximum Survival_in_days among the filtered data\n",
    "index_of_max_survival = np.argmax(filtered_data['Survival_in_days'])\n",
    "\n",
    "# Get the index of the original array corresponding to the index in the filtered data\n",
    "original_index = np.where(data['Status'] == True)[0][index_of_max_survival]\n",
    "original_index"
   ]
  },
  {
   "cell_type": "code",
   "execution_count": 88,
   "id": "27365050-7293-4ae7-a694-4837965ff990",
   "metadata": {},
   "outputs": [
    {
     "data": {
      "text/plain": [
       "array([1, 2])"
      ]
     },
     "execution_count": 88,
     "metadata": {},
     "output_type": "execute_result"
    }
   ],
   "source": [
    "a = np.array([1,2,3])\n",
    "a = np.delete(a, 2)\n",
    "a"
   ]
  },
  {
   "cell_type": "code",
   "execution_count": 89,
   "id": "a6ae5d21-29d6-4115-b425-bc9d4b6947af",
   "metadata": {},
   "outputs": [
    {
     "name": "stdout",
     "output_type": "stream",
     "text": [
      "[  1   3   4   5   7   8   9  10  11  12  13  14  15  16  17  18  19  20\n",
      "  21  22  23  26  28  29  30  31  33  34  35  36  38  40  41  43  44  45\n",
      "  46  47  48  49  50  51  52  53  55  56  57  58  59  60  61  62  63  64\n",
      "  65  67  68  69  70  71  74  75  76  77  78  79  80  81  82  84  85  86\n",
      "  87  88  89  91  92  93  94  96  98  99 100 102 104 106 107]\n",
      "[  0   2   6  24  25  27  32  37  39  42  54  66  72  73  83  90  95  97\n",
      " 101 103 105 108]\n",
      "[  0   1   2   3   4   5   6   8   9  10  12  13  14  17  19  20  21  22\n",
      "  23  24  25  26  27  28  30  31  32  34  35  36  37  38  39  42  43  44\n",
      "  45  46  47  48  49  50  51  52  53  54  55  56  58  59  61  64  65  66\n",
      "  69  70  72  73  74  75  76  77  78  80  81  83  84  85  86  87  88  89\n",
      "  90  91  94  95  96  97  98 101 102 103 104 105 106 107 108]\n",
      "[  7  11  15  16  18  29  33  40  41  57  60  62  63  67  68  71  79  82\n",
      "  92  93  99 100]\n",
      "[  0   1   2   3   4   5   6   7  11  12  13  15  16  17  18  19  20  22\n",
      "  23  24  25  26  27  28  29  32  33  34  35  37  39  40  41  42  44  50\n",
      "  51  52  53  54  55  56  57  58  59  60  61  62  63  64  65  66  67  68\n",
      "  69  70  71  72  73  75  76  79  80  81  82  83  84  85  86  88  89  90\n",
      "  91  92  93  95  96  97  98  99 100 101 103 105 106 107 108]\n",
      "[  8   9  10  14  21  30  31  36  38  43  45  46  47  48  49  74  77  78\n",
      "  87  94 102 104]\n",
      "[  0   2   3   6   7   8   9  10  11  12  14  15  16  18  21  23  24  25\n",
      "  26  27  29  30  31  32  33  35  36  37  38  39  40  41  42  43  45  46\n",
      "  47  48  49  50  51  54  56  57  60  61  62  63  64  65  66  67  68  70\n",
      "  71  72  73  74  75  77  78  79  80  82  83  84  85  86  87  88  89  90\n",
      "  92  93  94  95  97  98  99 100 101 102 103 104 105 107 108]\n",
      "[  1   4   5  13  17  19  20  22  28  34  44  52  53  55  58  59  69  76\n",
      "  81  91  96 106]\n",
      "[  0   1   2   4   5   6   7   8   9  10  11  13  14  15  16  17  18  19\n",
      "  20  21  22  24  25  27  28  29  30  31  32  33  34  36  37  38  39  40\n",
      "  41  42  43  44  45  46  47  48  49  52  53  54  55  57  58  59  60  62\n",
      "  63  66  67  68  69  71  72  73  74  76  77  78  79  81  82  83  87  90\n",
      "  91  92  93  94  95  96  97  99 100 101 102 103 104 105 106 108]\n",
      "[  3  12  23  26  35  50  51  56  61  64  65  70  75  80  84  85  86  88\n",
      "  89  98 107]\n"
     ]
    }
   ],
   "source": [
    "from sklearn.model_selection import BaseCrossValidator\n",
    "from sklearn.model_selection import StratifiedKFold, KFold, GridSearchCV\n",
    "from sksurv.metrics import cumulative_dynamic_auc, as_concordance_index_ipcw_scorer\n",
    "import numpy as np\n",
    "\n",
    "class CustomKFold(KFold):\n",
    "    def __init__(self, n_splits=5, shuffle=False, random_state=None):\n",
    "        super().__init__(n_splits=n_splits, shuffle=shuffle, random_state=random_state)\n",
    "\n",
    "    def split(self, X, y=None, groups=None):\n",
    "\n",
    "        filtered_data = y[y['Status'] == True]\n",
    "\n",
    "        # Get the index of the sample with the maximum Survival_in_days among the filtered data\n",
    "        index_of_max_survival = np.argmax(filtered_data['Survival_in_days'])\n",
    "        \n",
    "        # Get the index of the original array corresponding to the index in the filtered data\n",
    "        original_max_index = np.where(y['Status'] == True)[0][index_of_max_survival]\n",
    "                \n",
    "        for train_index, test_index in super().split(X, y, groups):\n",
    "            print(train_index)\n",
    "            print(test_index)\n",
    "            # Ensure m is always in the training set\n",
    "            #if X[train_index].max() < X[test_index].max():\n",
    "            #    train_index = list(train_index) + [test_index[X[test_index].argmax()]]\n",
    "            if original_max_index in test_index:\n",
    "                test_index = np.delete(test_index, np.where(test_index == original_max_index))\n",
    "                train_index = np.append(train_index, original_max_index)\n",
    "            yield train_index, test_index\n",
    "\n",
    "    def get_n_splits(self, X, y, groups=None):\n",
    "            return self.n_splits\n",
    "\n",
    "# Usage example:\n",
    "cv = CustomKFold(n_splits=5, shuffle=True, random_state=41)\n",
    "\n",
    "estimated_alphas = np.arange(0.0001, 0.1 + 0.005, 0.0005)\n",
    "\n",
    "encoder = OneHotEncoder()\n",
    "\n",
    "# Fit and transform the data\n",
    "va_x_train = encoder.fit_transform(va_x_train)\n",
    "\n",
    "gcv = GridSearchCV(\n",
    "    as_concordance_index_ipcw_scorer(CoxnetSurvivalAnalysis(l1_ratio=0.5, fit_baseline_model=True, max_iter=50000, normalize=False)),\n",
    "    param_grid={\"estimator__alphas\": [[v] for v in estimated_alphas]},\n",
    "    cv=cv,\n",
    "    error_score=0,\n",
    "    n_jobs=-1,\n",
    ").fit(va_x_train, va_y_train)\n"
   ]
  },
  {
   "cell_type": "code",
   "execution_count": 90,
   "id": "66782c0c-18d7-41c9-988c-efe39f0cdf73",
   "metadata": {},
   "outputs": [
    {
     "data": {
      "text/plain": [
       "array([( True,  20.), ( True, 162.), ( True,  53.), ( True, 132.),\n",
       "       ( True,  54.), ( True, 384.), ( True, 111.), ( True, 177.),\n",
       "       ( True, 283.), ( True,  84.), ( True,  52.), ( True,  87.),\n",
       "       ( True,  21.), ( True,  61.), ( True, 112.), ( True, 389.),\n",
       "       ( True, 287.), ( True, 314.), ( True,  10.), ( True,  12.),\n",
       "       ( True,  95.), ( True,  80.), ( True,  20.)],\n",
       "      dtype=[('Status', '?'), ('Survival_in_days', '<f8')])"
      ]
     },
     "execution_count": 90,
     "metadata": {},
     "output_type": "execute_result"
    }
   ],
   "source": [
    "va_y_train[va_y_train['Status']]"
   ]
  },
  {
   "cell_type": "code",
   "execution_count": 91,
   "id": "a28f6805-868b-40a2-8e28-08f1f039bf7e",
   "metadata": {},
   "outputs": [
    {
     "data": {
      "text/plain": [
       "True"
      ]
     },
     "execution_count": 91,
     "metadata": {},
     "output_type": "execute_result"
    }
   ],
   "source": [
    "19.19000053 < 20.63999939"
   ]
  },
  {
   "cell_type": "code",
   "execution_count": 92,
   "id": "41cd442d-1f99-41dc-8360-05511480405e",
   "metadata": {},
   "outputs": [
    {
     "data": {
      "text/plain": [
       "array([( True, 1.00000000e-06), ( True, 1.79099998e+01),\n",
       "       ( True, 2.00000000e+04), (False, 5.20000000e+01),\n",
       "       (False, 3.40000000e+02), (False, 1.22000000e+02),\n",
       "       ( True, 1.62000000e+02), (False, 1.23000000e+02),\n",
       "       (False, 1.60000000e+01), (False, 1.82000000e+02),\n",
       "       (False, 8.00000000e+00), (False, 1.17000000e+02),\n",
       "       ( True, 5.30000000e+01), (False, 1.62000000e+02),\n",
       "       (False, 3.10000000e+01), (False, 1.00000000e+02),\n",
       "       (False, 7.00000000e+00), (False, 5.90000000e+01),\n",
       "       (False, 1.43000000e+02), (False, 2.00000000e+00),\n",
       "       ( True, 1.32000000e+02), (False, 5.10000000e+01),\n",
       "       (False, 1.18000000e+02), (False, 5.60000000e+01),\n",
       "       (False, 9.50000000e+01), (False, 4.30000000e+01),\n",
       "       ( True, 5.40000000e+01), (False, 1.33000000e+02),\n",
       "       (False, 9.70000000e+01), ( True, 3.84000000e+02),\n",
       "       ( True, 1.11000000e+02), ( True, 1.77000000e+02),\n",
       "       (False, 4.80000000e+01), (False, 1.90000000e+01),\n",
       "       (False, 1.39000000e+02), (False, 5.87000000e+02),\n",
       "       (False, 2.60000000e+02), (False, 1.03000000e+02),\n",
       "       (False, 1.53000000e+02), ( True, 2.83000000e+02),\n",
       "       (False, 1.17000000e+02), (False, 2.50000000e+01),\n",
       "       (False, 2.31000000e+02), (False, 2.50000000e+01),\n",
       "       (False, 3.60000000e+01), ( True, 8.40000000e+01),\n",
       "       (False, 2.40000000e+01), ( True, 5.20000000e+01),\n",
       "       (False, 3.92000000e+02), (False, 8.30000000e+01),\n",
       "       (False, 1.30000000e+01), (False, 2.50000000e+02),\n",
       "       (False, 2.70000000e+01), (False, 1.00000000e+02),\n",
       "       ( True, 8.70000000e+01), (False, 5.20000000e+01),\n",
       "       (False, 2.90000000e+01), (False, 4.90000000e+01),\n",
       "       (False, 6.30000000e+01), ( True, 2.10000000e+01),\n",
       "       (False, 8.70000000e+01), (False, 3.10000000e+01),\n",
       "       ( True, 6.10000000e+01), (False, 1.80000000e+01),\n",
       "       (False, 7.00000000e+00), ( True, 1.12000000e+02),\n",
       "       ( True, 3.89000000e+02), (False, 1.26000000e+02),\n",
       "       (False, 8.00000000e+00), (False, 1.10000000e+02),\n",
       "       ( True, 2.87000000e+02), (False, 5.40000000e+01),\n",
       "       ( True, 3.14000000e+02), ( True, 1.00000000e+01),\n",
       "       (False, 3.78000000e+02), (False, 2.10000000e+01),\n",
       "       (False, 8.00000000e+00), (False, 3.00000000e+01),\n",
       "       (False, 2.42000000e+02), (False, 8.20000000e+01),\n",
       "       (False, 1.90000000e+01), (False, 3.00000000e+01),\n",
       "       (False, 9.90000000e+01), ( True, 1.20000000e+01),\n",
       "       (False, 1.30000000e+01), (False, 4.67000000e+02),\n",
       "       (False, 3.30000000e+01), (False, 2.28000000e+02),\n",
       "       ( True, 9.50000000e+01), (False, 7.00000000e+00),\n",
       "       (False, 2.50000000e+01), (False, 2.31000000e+02),\n",
       "       (False, 1.05000000e+02), (False, 7.20000000e+01),\n",
       "       (False, 2.16000000e+02), (False, 1.20000000e+01),\n",
       "       (False, 9.99000000e+02), (False, 2.50000000e+01),\n",
       "       (False, 1.80000000e+01), (False, 1.64000000e+02),\n",
       "       (False, 7.30000000e+01), (False, 8.00000000e+01),\n",
       "       (False, 9.20000000e+01), (False, 9.90000000e+01),\n",
       "       (False, 2.20000000e+01), ( True, 8.00000000e+01),\n",
       "       (False, 4.11000000e+02), ( True, 2.00000000e+01),\n",
       "       (False, 1.50000000e+01)],\n",
       "      dtype=[('Status', '?'), ('Survival_in_days', '<f8')])"
      ]
     },
     "execution_count": 92,
     "metadata": {},
     "output_type": "execute_result"
    }
   ],
   "source": [
    "va_y_train[0] = (True, 0.000001)\n",
    "va_y_train[1] = (True, 17.90999985)\n",
    "va_y_train[2] = (True, 20000)\n",
    "va_y_train"
   ]
  },
  {
   "cell_type": "code",
   "execution_count": 93,
   "id": "1e628908-13d1-4f8e-984b-e89265b772ea",
   "metadata": {},
   "outputs": [],
   "source": [
    "encoder = OneHotEncoder()\n",
    "\n",
    "# Fit and transform the data\n",
    "va_x_train = encoder.fit_transform(va_x_train)"
   ]
  },
  {
   "cell_type": "code",
   "execution_count": 103,
   "id": "f2df0e6e-b114-4fcb-bad9-d019abd25228",
   "metadata": {},
   "outputs": [
    {
     "data": {
      "text/plain": [
       "array([3.04311676, 2.90480241, 2.77277466, 2.64674777, 2.526449  ,\n",
       "       2.41161799, 2.30200623, 2.1973765 , 2.09750234, 2.00216763,\n",
       "       1.91116602, 1.82430057, 1.7413833 , 1.66223474, 1.5866836 ,\n",
       "       1.51456638, 1.445727  , 1.38001648, 1.3172926 , 1.25741962,\n",
       "       1.20026796, 1.14571393, 1.09363946, 1.04393186, 0.99648355,\n",
       "       0.95119183, 0.90795869, 0.86669057, 0.82729815, 0.78969617,\n",
       "       0.75380326, 0.71954174, 0.68683745, 0.65561963, 0.62582071,\n",
       "       0.59737619, 0.57022452, 0.54430694, 0.51956735, 0.49595221,\n",
       "       0.47341042, 0.45189318, 0.43135394, 0.41174824, 0.39303364,\n",
       "       0.37516966, 0.35811762, 0.34184062, 0.32630344, 0.31147244,\n",
       "       0.29731554, 0.28380209, 0.27090284, 0.25858989, 0.24683658,\n",
       "       0.23561748, 0.2249083 , 0.21468587, 0.20492807, 0.19561377,\n",
       "       0.18672282, 0.17823598, 0.17013488, 0.16240199, 0.15502057,\n",
       "       0.14797464, 0.14124897, 0.13482898, 0.1287008 , 0.12285115,\n",
       "       0.11726737, 0.11193739, 0.10684966, 0.10199318, 0.09735743,\n",
       "       0.09293239, 0.08870847, 0.08467653, 0.08082785, 0.0771541 ,\n",
       "       0.07364733, 0.07029994, 0.0671047 , 0.06405469, 0.06114331,\n",
       "       0.05836425, 0.0557115 , 0.05317933, 0.05076225, 0.04845502,\n",
       "       0.04625267, 0.04415041, 0.04214371, 0.04022821, 0.03839978,\n",
       "       0.03665445, 0.03498845, 0.03339817, 0.03188017, 0.03043117])"
      ]
     },
     "execution_count": 103,
     "metadata": {},
     "output_type": "execute_result"
    }
   ],
   "source": [
    "cph = CoxnetSurvivalAnalysis(l1_ratio=0.5, fit_baseline_model = True, max_iter = 50000, alpha_min_ratio = 0.01)\n",
    "cph.fit(va_x_train, va_y_train)\n",
    "alphas = cox.alphas_\n",
    "cox.score(va_x_train, va_y_train)\n",
    "alphas"
   ]
  },
  {
   "cell_type": "code",
   "execution_count": 101,
   "id": "bfac4ef0-2551-4f67-a689-af4b7242fe8c",
   "metadata": {},
   "outputs": [],
   "source": [
    "from sklearn.model_selection import KFold, GridSearchCV\n",
    "from sksurv.metrics import cumulative_dynamic_auc, as_concordance_index_ipcw_scorer\n",
    "\n",
    "estimated_alphas = np.arange(0.0001, 0.1 + 0.005, 0.0005)\n",
    "\n",
    "cv = KFold(n_splits=3, shuffle = True, random_state = 40)\n",
    "gcv = GridSearchCV(\n",
    "    as_concordance_index_ipcw_scorer(CoxnetSurvivalAnalysis(l1_ratio=0.5, fit_baseline_model = True, max_iter = 50000, normalize = False)),\n",
    "    param_grid = {\"estimator__alphas\": [[v] for v in estimated_alphas]},\n",
    "    cv = cv,\n",
    "    error_score = 0,\n",
    "    n_jobs = -1,\n",
    ").fit(va_x_train, va_y_train)"
   ]
  },
  {
   "cell_type": "code",
   "execution_count": 96,
   "id": "f570ef27-aa4f-4fa9-8ed0-78daa11b6bb6",
   "metadata": {},
   "outputs": [
    {
     "data": {
      "image/png": "[encoded data removed]",
      "text/plain": [
       "<Figure size 900x600 with 1 Axes>"
      ]
     },
     "metadata": {},
     "output_type": "display_data"
    }
   ],
   "source": [
    "cv_results = pd.DataFrame(gcv.cv_results_)\n",
    "\n",
    "alphas = cv_results.param_estimator__alphas.map(lambda x: x[0])\n",
    "mean = cv_results.mean_test_score\n",
    "std = cv_results.std_test_score\n",
    "\n",
    "best_model = gcv.best_estimator_.estimator\n",
    "best_alpha = gcv.best_params_[\"estimator__alphas\"][0]\n",
    "\n",
    "fig, ax = plt.subplots(figsize=(9, 6))\n",
    "ax.plot(alphas, mean)\n",
    "ax.fill_between(alphas, mean - std, mean + std, alpha=0.15)\n",
    "ax.set_xscale(\"log\")\n",
    "ax.set_ylabel(\"concordance index IPCW\")\n",
    "ax.set_xlabel(\"alpha\")\n",
    "ax.axvline(best_alpha, c=\"C1\")\n",
    "ax.axhline(0.5, color=\"grey\", linestyle=\"--\")\n",
    "ax.grid(True)\n",
    "plt.title(\"C-Index of the COX PH model using Train data\")\n",
    "plt.show()"
   ]
  },
  {
   "cell_type": "code",
   "execution_count": 104,
   "id": "4af6165c-970a-4a16-9700-55066e90ec12",
   "metadata": {},
   "outputs": [
    {
     "ename": "ValueError",
     "evalue": "The feature names should match those that were passed during fit.\nFeature names unseen at fit time:\n- Celltype\n- Prior_therapy\n- Treatment\nFeature names seen at fit time, yet now missing:\n- Celltype=large\n- Celltype=smallcell\n- Celltype=squamous\n- Prior_therapy=yes\n- Treatment=test\n",
     "output_type": "error",
     "traceback": [
      "\u001b[1;31m---------------------------------------------------------------------------\u001b[0m",
      "\u001b[1;31mValueError\u001b[0m                                Traceback (most recent call last)",
      "Cell \u001b[1;32mIn[104], line 2\u001b[0m\n\u001b[0;32m      1\u001b[0m va_times \u001b[38;5;241m=\u001b[39m np\u001b[38;5;241m.\u001b[39marange(\u001b[38;5;241m1\u001b[39m, \u001b[38;5;28mmax\u001b[39m(va_y_test[\u001b[38;5;124m'\u001b[39m\u001b[38;5;124mSurvival_in_days\u001b[39m\u001b[38;5;124m'\u001b[39m]), \u001b[38;5;241m7\u001b[39m)\n\u001b[1;32m----> 2\u001b[0m cph_risk_scores \u001b[38;5;241m=\u001b[39m cph\u001b[38;5;241m.\u001b[39mpredict(va_x_test, alpha \u001b[38;5;241m=\u001b[39m \u001b[38;5;241m0.01\u001b[39m)\n\u001b[0;32m      3\u001b[0m cph_auc, cph_mean_auc \u001b[38;5;241m=\u001b[39m cumulative_dynamic_auc(va_y_train, va_y_test, cph_risk_scores, va_times)\n\u001b[0;32m      5\u001b[0m plt\u001b[38;5;241m.\u001b[39mplot(va_times, cph_auc, marker\u001b[38;5;241m=\u001b[39m\u001b[38;5;124m\"\u001b[39m\u001b[38;5;124mo\u001b[39m\u001b[38;5;124m\"\u001b[39m)\n",
      "File \u001b[1;32m~\\anaconda3\\envs\\P10\\Lib\\site-packages\\sksurv\\linear_model\\coxnet.py:369\u001b[0m, in \u001b[0;36mCoxnetSurvivalAnalysis.predict\u001b[1;34m(self, X, alpha)\u001b[0m\n\u001b[0;32m    351\u001b[0m \u001b[38;5;28;01mdef\u001b[39;00m \u001b[38;5;21mpredict\u001b[39m(\u001b[38;5;28mself\u001b[39m, X, alpha\u001b[38;5;241m=\u001b[39m\u001b[38;5;28;01mNone\u001b[39;00m):\n\u001b[0;32m    352\u001b[0m \u001b[38;5;250m    \u001b[39m\u001b[38;5;124;03m\"\"\"The linear predictor of the model.\u001b[39;00m\n\u001b[0;32m    353\u001b[0m \n\u001b[0;32m    354\u001b[0m \u001b[38;5;124;03m    Parameters\u001b[39;00m\n\u001b[1;32m   (...)\u001b[0m\n\u001b[0;32m    367\u001b[0m \u001b[38;5;124;03m        The predicted decision function\u001b[39;00m\n\u001b[0;32m    368\u001b[0m \u001b[38;5;124;03m    \"\"\"\u001b[39;00m\n\u001b[1;32m--> 369\u001b[0m     X \u001b[38;5;241m=\u001b[39m \u001b[38;5;28mself\u001b[39m\u001b[38;5;241m.\u001b[39m_validate_data(X, reset\u001b[38;5;241m=\u001b[39m\u001b[38;5;28;01mFalse\u001b[39;00m)\n\u001b[0;32m    370\u001b[0m     coef, offset \u001b[38;5;241m=\u001b[39m \u001b[38;5;28mself\u001b[39m\u001b[38;5;241m.\u001b[39m_get_coef(alpha)\n\u001b[0;32m    371\u001b[0m     \u001b[38;5;28;01mreturn\u001b[39;00m np\u001b[38;5;241m.\u001b[39mdot(X, coef) \u001b[38;5;241m-\u001b[39m offset\n",
      "File \u001b[1;32m~\\anaconda3\\envs\\P10\\Lib\\site-packages\\sklearn\\base.py:548\u001b[0m, in \u001b[0;36mBaseEstimator._validate_data\u001b[1;34m(self, X, y, reset, validate_separately, **check_params)\u001b[0m\n\u001b[0;32m    483\u001b[0m \u001b[38;5;28;01mdef\u001b[39;00m \u001b[38;5;21m_validate_data\u001b[39m(\n\u001b[0;32m    484\u001b[0m     \u001b[38;5;28mself\u001b[39m,\n\u001b[0;32m    485\u001b[0m     X\u001b[38;5;241m=\u001b[39m\u001b[38;5;124m\"\u001b[39m\u001b[38;5;124mno_validation\u001b[39m\u001b[38;5;124m\"\u001b[39m,\n\u001b[1;32m   (...)\u001b[0m\n\u001b[0;32m    489\u001b[0m     \u001b[38;5;241m*\u001b[39m\u001b[38;5;241m*\u001b[39mcheck_params,\n\u001b[0;32m    490\u001b[0m ):\n\u001b[0;32m    491\u001b[0m \u001b[38;5;250m    \u001b[39m\u001b[38;5;124;03m\"\"\"Validate input data and set or check the `n_features_in_` attribute.\u001b[39;00m\n\u001b[0;32m    492\u001b[0m \n\u001b[0;32m    493\u001b[0m \u001b[38;5;124;03m    Parameters\u001b[39;00m\n\u001b[1;32m   (...)\u001b[0m\n\u001b[0;32m    546\u001b[0m \u001b[38;5;124;03m        validated.\u001b[39;00m\n\u001b[0;32m    547\u001b[0m \u001b[38;5;124;03m    \"\"\"\u001b[39;00m\n\u001b[1;32m--> 548\u001b[0m     \u001b[38;5;28mself\u001b[39m\u001b[38;5;241m.\u001b[39m_check_feature_names(X, reset\u001b[38;5;241m=\u001b[39mreset)\n\u001b[0;32m    550\u001b[0m     \u001b[38;5;28;01mif\u001b[39;00m y \u001b[38;5;129;01mis\u001b[39;00m \u001b[38;5;28;01mNone\u001b[39;00m \u001b[38;5;129;01mand\u001b[39;00m \u001b[38;5;28mself\u001b[39m\u001b[38;5;241m.\u001b[39m_get_tags()[\u001b[38;5;124m\"\u001b[39m\u001b[38;5;124mrequires_y\u001b[39m\u001b[38;5;124m\"\u001b[39m]:\n\u001b[0;32m    551\u001b[0m         \u001b[38;5;28;01mraise\u001b[39;00m \u001b[38;5;167;01mValueError\u001b[39;00m(\n\u001b[0;32m    552\u001b[0m             \u001b[38;5;124mf\u001b[39m\u001b[38;5;124m\"\u001b[39m\u001b[38;5;124mThis \u001b[39m\u001b[38;5;132;01m{\u001b[39;00m\u001b[38;5;28mself\u001b[39m\u001b[38;5;241m.\u001b[39m\u001b[38;5;18m__class__\u001b[39m\u001b[38;5;241m.\u001b[39m\u001b[38;5;18m__name__\u001b[39m\u001b[38;5;132;01m}\u001b[39;00m\u001b[38;5;124m estimator \u001b[39m\u001b[38;5;124m\"\u001b[39m\n\u001b[0;32m    553\u001b[0m             \u001b[38;5;124m\"\u001b[39m\u001b[38;5;124mrequires y to be passed, but the target y is None.\u001b[39m\u001b[38;5;124m\"\u001b[39m\n\u001b[0;32m    554\u001b[0m         )\n",
      "File \u001b[1;32m~\\anaconda3\\envs\\P10\\Lib\\site-packages\\sklearn\\base.py:481\u001b[0m, in \u001b[0;36mBaseEstimator._check_feature_names\u001b[1;34m(self, X, reset)\u001b[0m\n\u001b[0;32m    476\u001b[0m \u001b[38;5;28;01mif\u001b[39;00m \u001b[38;5;129;01mnot\u001b[39;00m missing_names \u001b[38;5;129;01mand\u001b[39;00m \u001b[38;5;129;01mnot\u001b[39;00m unexpected_names:\n\u001b[0;32m    477\u001b[0m     message \u001b[38;5;241m+\u001b[39m\u001b[38;5;241m=\u001b[39m (\n\u001b[0;32m    478\u001b[0m         \u001b[38;5;124m\"\u001b[39m\u001b[38;5;124mFeature names must be in the same order as they were in fit.\u001b[39m\u001b[38;5;130;01m\\n\u001b[39;00m\u001b[38;5;124m\"\u001b[39m\n\u001b[0;32m    479\u001b[0m     )\n\u001b[1;32m--> 481\u001b[0m \u001b[38;5;28;01mraise\u001b[39;00m \u001b[38;5;167;01mValueError\u001b[39;00m(message)\n",
      "\u001b[1;31mValueError\u001b[0m: The feature names should match those that were passed during fit.\nFeature names unseen at fit time:\n- Celltype\n- Prior_therapy\n- Treatment\nFeature names seen at fit time, yet now missing:\n- Celltype=large\n- Celltype=smallcell\n- Celltype=squamous\n- Prior_therapy=yes\n- Treatment=test\n"
     ]
    }
   ],
   "source": [
    "va_times = np.arange(1, max(va_y_test['Survival_in_days']), 7)\n",
    "cph_risk_scores = cph.predict(va_x_test, alpha = 0.01)\n",
    "cph_auc, cph_mean_auc = cumulative_dynamic_auc(va_y_train, va_y_test, cph_risk_scores, va_times)\n",
    "\n",
    "plt.plot(va_times, cph_auc, marker=\"o\")\n",
    "plt.axhline(cph_mean_auc, linestyle=\"--\")\n",
    "plt.xlabel(\"days from enrollment\")\n",
    "plt.ylabel(\"time-dependent AUC\")\n",
    "plt.grid(True)"
   ]
  },
  {
   "cell_type": "code",
   "execution_count": 106,
   "id": "40db2ea3-d761-4d4e-a9f5-0ff2b1b8c0f4",
   "metadata": {},
   "outputs": [
    {
     "data": {
      "text/plain": [
       "True"
      ]
     },
     "execution_count": 106,
     "metadata": {},
     "output_type": "execute_result"
    }
   ],
   "source": [
    "1 in [1,2,3]"
   ]
  },
  {
   "cell_type": "code",
   "execution_count": 105,
   "id": "cce89238-9792-4f45-ae57-a15c0cc9a3df",
   "metadata": {},
   "outputs": [
    {
     "ename": "ValueError",
     "evalue": "The feature names should match those that were passed during fit.\nFeature names unseen at fit time:\n- Celltype\n- Prior_therapy\n- Treatment\nFeature names seen at fit time, yet now missing:\n- Celltype=large\n- Celltype=smallcell\n- Celltype=squamous\n- Prior_therapy=yes\n- Treatment=test\n",
     "output_type": "error",
     "traceback": [
      "\u001b[1;31m---------------------------------------------------------------------------\u001b[0m",
      "\u001b[1;31mValueError\u001b[0m                                Traceback (most recent call last)",
      "Cell \u001b[1;32mIn[105], line 1\u001b[0m\n\u001b[1;32m----> 1\u001b[0m G \u001b[38;5;241m=\u001b[39m cph\u001b[38;5;241m.\u001b[39mpredict_survival_function(va_x_test, alpha \u001b[38;5;241m=\u001b[39m \u001b[38;5;28;01mNone\u001b[39;00m)\n\u001b[0;32m      2\u001b[0m predicted_values \u001b[38;5;241m=\u001b[39m []\n\u001b[0;32m      3\u001b[0m \u001b[38;5;28;01mfor\u001b[39;00m g \u001b[38;5;129;01min\u001b[39;00m G:\n",
      "File \u001b[1;32m~\\anaconda3\\envs\\P10\\Lib\\site-packages\\sksurv\\linear_model\\coxnet.py:539\u001b[0m, in \u001b[0;36mCoxnetSurvivalAnalysis.predict_survival_function\u001b[1;34m(self, X, alpha, return_array)\u001b[0m\n\u001b[0;32m    466\u001b[0m \u001b[38;5;250m\u001b[39m\u001b[38;5;124;03m\"\"\"Predict survival function.\u001b[39;00m\n\u001b[0;32m    467\u001b[0m \n\u001b[0;32m    468\u001b[0m \u001b[38;5;124;03mOnly available if :meth:`fit` has been called with `fit_baseline_model = True`.\u001b[39;00m\n\u001b[1;32m   (...)\u001b[0m\n\u001b[0;32m    536\u001b[0m \u001b[38;5;124;03m>>> plt.show()\u001b[39;00m\n\u001b[0;32m    537\u001b[0m \u001b[38;5;124;03m\"\"\"\u001b[39;00m\n\u001b[0;32m    538\u001b[0m baseline_model \u001b[38;5;241m=\u001b[39m \u001b[38;5;28mself\u001b[39m\u001b[38;5;241m.\u001b[39m_get_baseline_model(alpha)\n\u001b[1;32m--> 539\u001b[0m \u001b[38;5;28;01mreturn\u001b[39;00m \u001b[38;5;28mself\u001b[39m\u001b[38;5;241m.\u001b[39m_predict_survival_function(baseline_model, \u001b[38;5;28mself\u001b[39m\u001b[38;5;241m.\u001b[39mpredict(X, alpha\u001b[38;5;241m=\u001b[39malpha), return_array)\n",
      "File \u001b[1;32m~\\anaconda3\\envs\\P10\\Lib\\site-packages\\sksurv\\linear_model\\coxnet.py:369\u001b[0m, in \u001b[0;36mCoxnetSurvivalAnalysis.predict\u001b[1;34m(self, X, alpha)\u001b[0m\n\u001b[0;32m    351\u001b[0m \u001b[38;5;28;01mdef\u001b[39;00m \u001b[38;5;21mpredict\u001b[39m(\u001b[38;5;28mself\u001b[39m, X, alpha\u001b[38;5;241m=\u001b[39m\u001b[38;5;28;01mNone\u001b[39;00m):\n\u001b[0;32m    352\u001b[0m \u001b[38;5;250m    \u001b[39m\u001b[38;5;124;03m\"\"\"The linear predictor of the model.\u001b[39;00m\n\u001b[0;32m    353\u001b[0m \n\u001b[0;32m    354\u001b[0m \u001b[38;5;124;03m    Parameters\u001b[39;00m\n\u001b[1;32m   (...)\u001b[0m\n\u001b[0;32m    367\u001b[0m \u001b[38;5;124;03m        The predicted decision function\u001b[39;00m\n\u001b[0;32m    368\u001b[0m \u001b[38;5;124;03m    \"\"\"\u001b[39;00m\n\u001b[1;32m--> 369\u001b[0m     X \u001b[38;5;241m=\u001b[39m \u001b[38;5;28mself\u001b[39m\u001b[38;5;241m.\u001b[39m_validate_data(X, reset\u001b[38;5;241m=\u001b[39m\u001b[38;5;28;01mFalse\u001b[39;00m)\n\u001b[0;32m    370\u001b[0m     coef, offset \u001b[38;5;241m=\u001b[39m \u001b[38;5;28mself\u001b[39m\u001b[38;5;241m.\u001b[39m_get_coef(alpha)\n\u001b[0;32m    371\u001b[0m     \u001b[38;5;28;01mreturn\u001b[39;00m np\u001b[38;5;241m.\u001b[39mdot(X, coef) \u001b[38;5;241m-\u001b[39m offset\n",
      "File \u001b[1;32m~\\anaconda3\\envs\\P10\\Lib\\site-packages\\sklearn\\base.py:548\u001b[0m, in \u001b[0;36mBaseEstimator._validate_data\u001b[1;34m(self, X, y, reset, validate_separately, **check_params)\u001b[0m\n\u001b[0;32m    483\u001b[0m \u001b[38;5;28;01mdef\u001b[39;00m \u001b[38;5;21m_validate_data\u001b[39m(\n\u001b[0;32m    484\u001b[0m     \u001b[38;5;28mself\u001b[39m,\n\u001b[0;32m    485\u001b[0m     X\u001b[38;5;241m=\u001b[39m\u001b[38;5;124m\"\u001b[39m\u001b[38;5;124mno_validation\u001b[39m\u001b[38;5;124m\"\u001b[39m,\n\u001b[1;32m   (...)\u001b[0m\n\u001b[0;32m    489\u001b[0m     \u001b[38;5;241m*\u001b[39m\u001b[38;5;241m*\u001b[39mcheck_params,\n\u001b[0;32m    490\u001b[0m ):\n\u001b[0;32m    491\u001b[0m \u001b[38;5;250m    \u001b[39m\u001b[38;5;124;03m\"\"\"Validate input data and set or check the `n_features_in_` attribute.\u001b[39;00m\n\u001b[0;32m    492\u001b[0m \n\u001b[0;32m    493\u001b[0m \u001b[38;5;124;03m    Parameters\u001b[39;00m\n\u001b[1;32m   (...)\u001b[0m\n\u001b[0;32m    546\u001b[0m \u001b[38;5;124;03m        validated.\u001b[39;00m\n\u001b[0;32m    547\u001b[0m \u001b[38;5;124;03m    \"\"\"\u001b[39;00m\n\u001b[1;32m--> 548\u001b[0m     \u001b[38;5;28mself\u001b[39m\u001b[38;5;241m.\u001b[39m_check_feature_names(X, reset\u001b[38;5;241m=\u001b[39mreset)\n\u001b[0;32m    550\u001b[0m     \u001b[38;5;28;01mif\u001b[39;00m y \u001b[38;5;129;01mis\u001b[39;00m \u001b[38;5;28;01mNone\u001b[39;00m \u001b[38;5;129;01mand\u001b[39;00m \u001b[38;5;28mself\u001b[39m\u001b[38;5;241m.\u001b[39m_get_tags()[\u001b[38;5;124m\"\u001b[39m\u001b[38;5;124mrequires_y\u001b[39m\u001b[38;5;124m\"\u001b[39m]:\n\u001b[0;32m    551\u001b[0m         \u001b[38;5;28;01mraise\u001b[39;00m \u001b[38;5;167;01mValueError\u001b[39;00m(\n\u001b[0;32m    552\u001b[0m             \u001b[38;5;124mf\u001b[39m\u001b[38;5;124m\"\u001b[39m\u001b[38;5;124mThis \u001b[39m\u001b[38;5;132;01m{\u001b[39;00m\u001b[38;5;28mself\u001b[39m\u001b[38;5;241m.\u001b[39m\u001b[38;5;18m__class__\u001b[39m\u001b[38;5;241m.\u001b[39m\u001b[38;5;18m__name__\u001b[39m\u001b[38;5;132;01m}\u001b[39;00m\u001b[38;5;124m estimator \u001b[39m\u001b[38;5;124m\"\u001b[39m\n\u001b[0;32m    553\u001b[0m             \u001b[38;5;124m\"\u001b[39m\u001b[38;5;124mrequires y to be passed, but the target y is None.\u001b[39m\u001b[38;5;124m\"\u001b[39m\n\u001b[0;32m    554\u001b[0m         )\n",
      "File \u001b[1;32m~\\anaconda3\\envs\\P10\\Lib\\site-packages\\sklearn\\base.py:481\u001b[0m, in \u001b[0;36mBaseEstimator._check_feature_names\u001b[1;34m(self, X, reset)\u001b[0m\n\u001b[0;32m    476\u001b[0m \u001b[38;5;28;01mif\u001b[39;00m \u001b[38;5;129;01mnot\u001b[39;00m missing_names \u001b[38;5;129;01mand\u001b[39;00m \u001b[38;5;129;01mnot\u001b[39;00m unexpected_names:\n\u001b[0;32m    477\u001b[0m     message \u001b[38;5;241m+\u001b[39m\u001b[38;5;241m=\u001b[39m (\n\u001b[0;32m    478\u001b[0m         \u001b[38;5;124m\"\u001b[39m\u001b[38;5;124mFeature names must be in the same order as they were in fit.\u001b[39m\u001b[38;5;130;01m\\n\u001b[39;00m\u001b[38;5;124m\"\u001b[39m\n\u001b[0;32m    479\u001b[0m     )\n\u001b[1;32m--> 481\u001b[0m \u001b[38;5;28;01mraise\u001b[39;00m \u001b[38;5;167;01mValueError\u001b[39;00m(message)\n",
      "\u001b[1;31mValueError\u001b[0m: The feature names should match those that were passed during fit.\nFeature names unseen at fit time:\n- Celltype\n- Prior_therapy\n- Treatment\nFeature names seen at fit time, yet now missing:\n- Celltype=large\n- Celltype=smallcell\n- Celltype=squamous\n- Prior_therapy=yes\n- Treatment=test\n"
     ]
    }
   ],
   "source": [
    "G = cph.predict_survival_function(va_x_test, alpha = None)\n",
    "predicted_values = []\n",
    "for g in G:\n",
    "    color = plt.cm.prism(np.random.rand())  # Random color\n",
    "    plt.plot(g.x, g.y, color=color, alpha=0.5)\n",
    "\n",
    "    median_value = np.trapz(g.y, g.x)\n",
    "    predicted_values += [median_value]\n",
    "    plt.plot(median_value, 0.5, 'x', color=color, alpha=0.8, markersize=10)\n",
    "plt.show()"
   ]
  },
  {
   "cell_type": "code",
   "execution_count": null,
   "id": "18340e42-7ad4-4c9b-b687-4bcddcb1abf4",
   "metadata": {},
   "outputs": [],
   "source": []
  }
 ],
 "metadata": {
  "kernelspec": {
   "display_name": "Python 3 (ipykernel)",
   "language": "python",
   "name": "python3"
  },
  "language_info": {
   "codemirror_mode": {
    "name": "ipython",
    "version": 3
   },
   "file_extension": ".py",
   "mimetype": "text/x-python",
   "name": "python",
   "nbconvert_exporter": "python",
   "pygments_lexer": "ipython3",
   "version": "3.11.7"
  }
 },
 "nbformat": 4,
 "nbformat_minor": 5
}
